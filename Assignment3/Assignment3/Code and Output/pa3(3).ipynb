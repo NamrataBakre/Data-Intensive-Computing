{
  "nbformat": 4,
  "nbformat_minor": 0,
  "metadata": {
    "kernelspec": {
      "display_name": "Python 3",
      "language": "python",
      "name": "python3"
    },
    "language_info": {
      "codemirror_mode": {
        "name": "ipython",
        "version": 3
      },
      "file_extension": ".py",
      "mimetype": "text/x-python",
      "name": "python",
      "nbconvert_exporter": "python",
      "pygments_lexer": "ipython3",
      "version": "3.6.9"
    },
    "colab": {
      "name": "pa3(3).ipynb",
      "provenance": [],
      "collapsed_sections": []
    }
  },
  "cells": [
    {
      "cell_type": "code",
      "metadata": {
        "id": "QkYW_hq_i-zp",
        "colab_type": "code",
        "colab": {}
      },
      "source": [
        "# Required to run Spark on Google Colab.\n",
        "!apt-get install openjdk-8-jdk-headless -qq > /dev/null\n",
        "!wget -q https://archive.apache.org/dist/spark/spark-2.4.0/spark-2.4.0-bin-hadoop2.7.tgz\n",
        "!tar xf spark-2.4.0-bin-hadoop2.7.tgz\n",
        "!pip install -q findspark\n",
        "import os\n",
        "os.environ[\"JAVA_HOME\"] = \"/usr/lib/jvm/java-8-openjdk-amd64\"\n",
        "os.environ[\"SPARK_HOME\"] = \"/content/spark-2.4.0-bin-hadoop2.7\"\n",
        "import findspark\n",
        "findspark.init()"
      ],
      "execution_count": 0,
      "outputs": []
    },
    {
      "cell_type": "code",
      "metadata": {
        "id": "2XCZ9U8qsnZT",
        "colab_type": "code",
        "colab": {}
      },
      "source": [
        "import findspark\n",
        "import pyspark\n",
        "from pyspark.sql import *\n",
        "from pyspark import mllib\n",
        "from pyspark.ml.feature import Word2Vec\n",
        "from pyspark.ml import Pipeline\n",
        "from pyspark.ml.feature import StringIndexer, Tokenizer, RegexTokenizer, StopWordsRemover, VectorIndexer, OneHotEncoder, VectorAssembler, IndexToString\n",
        "from pyspark.ml.feature import HashingTF, IDF\n",
        "from pyspark.ml.classification import LogisticRegression\n",
        "from sklearn.preprocessing import OneHotEncoder\n",
        "from pyspark.mllib.regression import LabeledPoint\n",
        "from pyspark.mllib.classification import LogisticRegressionWithLBFGS, LogisticRegressionModel, LogisticRegressionWithSGD\n",
        "from pyspark.ml.evaluation import MulticlassClassificationEvaluator\n",
        "from pyspark.sql.types import *\n",
        "from pyspark.sql.functions import *\n",
        "import pandas as pd\n",
        "from pyspark import SparkConf\n",
        "import re\n",
        "\n",
        "# Setting up the Spark Session.\n",
        "conf = pyspark.SparkConf().setAppName(\"App\")\n",
        "conf = (conf.setMaster('local[*]')\n",
        "        .set('spark.executor.memory', '10G')\n",
        "        .set('spark.driver.memory', '10G')\n",
        "        .set('spark.driver.maxResultSize', '10G'))\n",
        "sc = pyspark.SparkContext(conf=conf)"
      ],
      "execution_count": 0,
      "outputs": []
    },
    {
      "cell_type": "code",
      "metadata": {
        "scrolled": true,
        "id": "NnP0Tub4i-z4",
        "colab_type": "code",
        "colab": {}
      },
      "source": [
        "# Reading  all the data first into a Dataframe then converting to a Spark Dataframe.\n",
        "df = pd.read_csv('train.csv', sep=',')\n",
        "df2 = pd.read_csv('mapping.csv', sep=',')\n",
        "df3= pd.read_csv('test.csv',sep=',')"
      ],
      "execution_count": 0,
      "outputs": []
    },
    {
      "cell_type": "code",
      "metadata": {
        "id": "lPmcHucJi-0A",
        "colab_type": "code",
        "outputId": "dd8d5634-9e45-452e-abf9-851170567f64",
        "colab": {
          "base_uri": "https://localhost:8080/",
          "height": 122
        }
      },
      "source": [
        "# One-hot-coding for training data\n",
        "C=[]\n",
        "for i in df2.iloc[:,-1]:\n",
        "    #print(i)\n",
        "    C.append(i)\n",
        "    df[i]=0\n",
        "\n",
        "dic={}\n",
        "dic1={}\n",
        "for i,j in enumerate(df[\"genre\"]):\n",
        "    #print(i,j)\n",
        "    dic[df[\"movie_id\"].iloc[i]]=[]\n",
        "    j=re.findall(\"\\'(.*?)\\'\",j)\n",
        "    for s in j:\n",
        "        df[s].iloc[i]=1\n",
        "        dic[df[\"movie_id\"].iloc[i]].append(C.index(s))\n",
        "        \n",
        "\n",
        "# One-hot coding for testing data\n",
        "for i in C:\n",
        "    df3[i]=0"
      ],
      "execution_count": 4,
      "outputs": [
        {
          "output_type": "stream",
          "text": [
            "/usr/local/lib/python3.6/dist-packages/pandas/core/indexing.py:671: SettingWithCopyWarning: \n",
            "A value is trying to be set on a copy of a slice from a DataFrame\n",
            "\n",
            "See the caveats in the documentation: https://pandas.pydata.org/pandas-docs/stable/user_guide/indexing.html#returning-a-view-versus-a-copy\n",
            "  self._setitem_with_indexer(indexer, value)\n"
          ],
          "name": "stderr"
        }
      ]
    },
    {
      "cell_type": "code",
      "metadata": {
        "id": "FnAiKF0ci-0Y",
        "colab_type": "code",
        "colab": {}
      },
      "source": [
        "# SQL conversion of training data.\n",
        "sqlCtx1 = SQLContext(sc)\n",
        "df = sqlCtx1.createDataFrame(df)"
      ],
      "execution_count": 0,
      "outputs": []
    },
    {
      "cell_type": "code",
      "metadata": {
        "id": "2mxB4iIVi-0f",
        "colab_type": "code",
        "colab": {}
      },
      "source": [
        "# SQL conversion of testing data.\n",
        "sqlCtx3 = SQLContext(sc)\n",
        "df3 = sqlCtx3.createDataFrame(df3)"
      ],
      "execution_count": 0,
      "outputs": []
    },
    {
      "cell_type": "code",
      "metadata": {
        "id": "4if9K9Lhi-08",
        "colab_type": "code",
        "colab": {}
      },
      "source": [
        "# Cleaning the training data.\n",
        "tokenizedData = RegexTokenizer(inputCol='plot', outputCol='Words_plot', pattern='\\\\W')\n",
        "tokenizedData=tokenizedData.transform(df)\n",
        "clean_data = StopWordsRemover(inputCol='Words_plot', outputCol='filtered').transform(tokenizedData)"
      ],
      "execution_count": 0,
      "outputs": []
    },
    {
      "cell_type": "code",
      "metadata": {
        "id": "HE9SZiuQi-1A",
        "colab_type": "code",
        "colab": {}
      },
      "source": [
        "#cleaning the plot of testing data\n",
        "tokenizedData2 = RegexTokenizer(inputCol='plot', outputCol='Words_plot', pattern='\\\\W').transform(df3)\n",
        "clean_data2 = StopWordsRemover(inputCol='Words_plot', outputCol='filtered').transform(tokenizedData2)"
      ],
      "execution_count": 0,
      "outputs": []
    },
    {
      "cell_type": "code",
      "metadata": {
        "id": "I21RcCPXi-1E",
        "colab_type": "code",
        "colab": {
          "base_uri": "https://localhost:8080/",
          "height": 156
        },
        "outputId": "6a637406-7da2-44e1-96c3-8282f20c16c6"
      },
      "source": [
        "# Calculate word 2 Vec for train dataset\n",
        "word2Vec = Word2Vec(vectorSize=120, inputCol='filtered', outputCol='feature')\n",
        "pipeword2vec = Pipeline(stages=[word2Vec])\n",
        "trainword2vec = pipeword2vec.fit(clean_data)\n",
        "tfFeaturedData = trainword2vec.transform(clean_data)\n",
        "tfFeaturedData.show(1)"
      ],
      "execution_count": 9,
      "outputs": [
        {
          "output_type": "stream",
          "text": [
            "+--------+----------+--------------------+--------------------+-----+------+------------+--------+------+------------+-------------+------+---------------+-----+----------------+---------+-----------+----------+--------------+---------+-------+---------------+-------+---------------+--------------------+--------------------+--------------------+\n",
            "|movie_id|movie_name|                plot|               genre|Drama|Comedy|Romance Film|Thriller|Action|World cinema|Crime Fiction|Horror|Black-and-white|Indie|Action/Adventure|Adventure|Family Film|Short Film|Romantic drama|Animation|Musical|Science Fiction|Mystery|Romantic comedy|          Words_plot|            filtered|             feature|\n",
            "+--------+----------+--------------------+--------------------+-----+------+------------+--------+------+------------+-------------+------+---------------+-----+----------------+---------+-----------+----------+--------------+---------+-------+---------------+-------+---------------+--------------------+--------------------+--------------------+\n",
            "|23890098|Taxi Blues|Shlykov, a hard-w...|['World cinema', ...|    1|     0|           0|       0|     0|           1|            0|     0|              0|    0|               0|        0|          0|         0|             0|        0|      0|              0|      0|              0|[shlykov, a, hard...|[shlykov, hard, w...|[-0.0740180925246...|\n",
            "+--------+----------+--------------------+--------------------+-----+------+------------+--------+------+------------+-------------+------+---------------+-----+----------------+---------+-----------+----------+--------------+---------+-------+---------------+-------+---------------+--------------------+--------------------+--------------------+\n",
            "only showing top 1 row\n",
            "\n"
          ],
          "name": "stdout"
        }
      ]
    },
    {
      "cell_type": "code",
      "metadata": {
        "id": "rG_ikvhHi-1K",
        "colab_type": "code",
        "colab": {
          "base_uri": "https://localhost:8080/",
          "height": 156
        },
        "outputId": "3557f7d2-fd7c-48f2-d4a7-73b2b7e6d9f7"
      },
      "source": [
        "# Calculating Word 2 Vector for test dataset.\n",
        "word2Vec2 = Word2Vec(vectorSize=120, inputCol='filtered', outputCol='feature')\n",
        "pipeword2vec2 = Pipeline(stages=[word2Vec2])\n",
        "trainword2vec2 = pipeword2vec2.fit(clean_data2)\n",
        "tfFeaturedData2 = trainword2vec2.transform(clean_data2)\n",
        "tfFeaturedData2.show(1)"
      ],
      "execution_count": 10,
      "outputs": [
        {
          "output_type": "stream",
          "text": [
            "+--------+----------+--------------------+-----+------+------------+--------+------+------------+-------------+------+---------------+-----+----------------+---------+-----------+----------+--------------+---------+-------+---------------+-------+---------------+--------------------+--------------------+--------------------+\n",
            "|movie_id|movie_name|                plot|Drama|Comedy|Romance Film|Thriller|Action|World cinema|Crime Fiction|Horror|Black-and-white|Indie|Action/Adventure|Adventure|Family Film|Short Film|Romantic drama|Animation|Musical|Science Fiction|Mystery|Romantic comedy|          Words_plot|            filtered|             feature|\n",
            "+--------+----------+--------------------+-----+------+------------+--------+------+------------+-------------+------+---------------+-----+----------------+---------+-----------+----------+--------------+---------+-------+---------------+-------+---------------+--------------------+--------------------+--------------------+\n",
            "| 1335380|    Exodus|The film is based...|    0|     0|           0|       0|     0|           0|            0|     0|              0|    0|               0|        0|          0|         0|             0|        0|      0|              0|      0|              0|[the, film, is, b...|[film, based, eve...|[-0.0476684019936...|\n",
            "+--------+----------+--------------------+-----+------+------------+--------+------+------------+-------------+------+---------------+-----+----------------+---------+-----------+----------+--------------+---------+-------+---------------+-------+---------------+--------------------+--------------------+--------------------+\n",
            "only showing top 1 row\n",
            "\n"
          ],
          "name": "stdout"
        }
      ]
    },
    {
      "cell_type": "code",
      "metadata": {
        "scrolled": true,
        "id": "Tfe99J7Bi-1O",
        "colab_type": "code",
        "colab": {}
      },
      "source": [
        "# Creating data frames for both testing and training data with only one genre.\n",
        "\n",
        "trains=tfFeaturedData\n",
        "tests=tfFeaturedData2\n",
        "\n",
        "Drama=trains.select('movie_id', \"feature\",\"Drama\")\n",
        "Drama1=tests.select('movie_id', \"feature\",\"Drama\")\n",
        "\n",
        "Comedy=trains.select('movie_id', \"feature\",\"Comedy\")\n",
        "Comedy1=tests.select('movie_id', \"feature\",\"Comedy\")\n",
        "\n",
        "Romance_Film=trains.select('movie_id', \"feature\",\"Romance Film\")\n",
        "Romance_Film1=tests.select('movie_id', \"feature\",\"Romance Film\")\n",
        "\n",
        "Thriller=trains.select('movie_id', \"feature\",\"Thriller\")\n",
        "Thriller1=tests.select('movie_id', \"feature\",\"Thriller\")\n",
        "\n",
        "Action=trains.select('movie_id', \"feature\",\"Action\")\n",
        "Action1=tests.select('movie_id', \"feature\",\"Action\")\n",
        "\n",
        "World_cinema=trains.select('movie_id', \"feature\",\"World cinema\")\n",
        "World_cinema1=tests.select('movie_id', \"feature\",\"World cinema\")\n",
        "\n",
        "Crime_Fiction=trains.select('movie_id', \"feature\",\"Crime Fiction\")\n",
        "Crime_Fiction1=tests.select('movie_id', \"feature\",\"Crime Fiction\")\n",
        "\n",
        "Horror=trains.select('movie_id', \"feature\",\"Horror\")\n",
        "Horror1=tests.select('movie_id', \"feature\",\"Horror\")\n",
        "\n",
        "Black_and_white=trains.select('movie_id', \"feature\",\"Black-and-white\")\n",
        "Black_and_white1=tests.select('movie_id', \"feature\",\"Black-and-white\")\n",
        "\n",
        "Indie=trains.select('movie_id', \"feature\",\"Indie\")\n",
        "Indie1=tests.select('movie_id', \"feature\",\"Indie\")\n",
        "\n",
        "Action_Adventure=trains.select('movie_id', \"feature\",\"Action/Adventure\")\n",
        "Action_Adventure1=tests.select('movie_id', \"feature\",\"Action/Adventure\")\n",
        "\n",
        "Adventure=trains.select('movie_id', \"feature\",\"Adventure\")\n",
        "Adventure1=tests.select('movie_id', \"feature\",\"Adventure\")\n",
        "\n",
        "Family_Film=trains.select('movie_id', \"feature\",\"Family Film\")\n",
        "Family_Film1=tests.select('movie_id', \"feature\",\"Family Film\")\n",
        "\n",
        "Short_Film=trains.select('movie_id', \"feature\",\"Short Film\")\n",
        "Short_Film1=tests.select('movie_id', \"feature\",\"Short Film\")\n",
        "\n",
        "Romantic_drama=trains.select('movie_id', \"feature\",\"Romantic drama\")\n",
        "Romantic_drama1=tests.select('movie_id', \"feature\",\"Romantic drama\")\n",
        "\n",
        "Animation=trains.select('movie_id', \"feature\",\"Animation\")\n",
        "Animation1=tests.select('movie_id', \"feature\",\"Animation\")\n",
        "\n",
        "\n",
        "Musical=trains.select('movie_id', \"feature\",\"Musical\")\n",
        "Musical1=tests.select('movie_id', \"feature\",\"Musical\")\n",
        "\n",
        "Science_Fiction=trains.select('movie_id', \"feature\",\"Science Fiction\")\n",
        "Science_Fiction1=tests.select('movie_id', \"feature\",\"Science Fiction\")\n",
        "\n",
        "Mystery=trains.select('movie_id', \"feature\",\"Mystery\")\n",
        "Mystery1=tests.select('movie_id', \"feature\",\"Mystery\")\n",
        "\n",
        "Romantic_comedy=trains.select('movie_id', \"feature\",\"Romantic comedy\")\n",
        "Romantic_comedy1=tests.select('movie_id', \"feature\",\"Romantic comedy\")"
      ],
      "execution_count": 0,
      "outputs": []
    },
    {
      "cell_type": "code",
      "metadata": {
        "id": "YXktUIeqi-1S",
        "colab_type": "code",
        "colab": {}
      },
      "source": [
        "from pyspark.ml.classification import LogisticRegression\n",
        "\n",
        "# Reading the Logistic Regression, defining the features and labels\n",
        "# here features are the term freqency and labels are 1 and 0 depending on availibility of that genre.\n",
        "\n",
        "lr1 = LogisticRegression(featuresCol=\"feature\",labelCol=\"Drama\")\n",
        "lr2= LogisticRegression(featuresCol=\"feature\",labelCol=\"Comedy\")\n",
        "lr3= LogisticRegression(featuresCol=\"feature\",labelCol=\"Romance Film\")\n",
        "lr4= LogisticRegression(featuresCol=\"feature\",labelCol=\"Thriller\")\n",
        "lr5= LogisticRegression(featuresCol=\"feature\",labelCol=\"Action\")\n",
        "lr6= LogisticRegression(featuresCol=\"feature\",labelCol=\"World cinema\")\n",
        "lr7= LogisticRegression(featuresCol=\"feature\",labelCol=\"Crime Fiction\")\n",
        "lr8= LogisticRegression(featuresCol=\"feature\",labelCol=\"Horror\")\n",
        "lr9= LogisticRegression(featuresCol=\"feature\",labelCol=\"Black-and-white\")\n",
        "lr10=LogisticRegression(featuresCol=\"feature\",labelCol=\"Indie\")\n",
        "lr11=LogisticRegression(featuresCol=\"feature\",labelCol=\"Action/Adventure\")\n",
        "lr12=LogisticRegression(featuresCol=\"feature\",labelCol=\"Adventure\")\n",
        "lr13=LogisticRegression(featuresCol=\"feature\",labelCol=\"Family Film\")\n",
        "lr14=LogisticRegression(featuresCol=\"feature\",labelCol=\"Short Film\")\n",
        "lr15=LogisticRegression(featuresCol=\"feature\",labelCol=\"Romantic drama\")\n",
        "lr16=LogisticRegression(featuresCol=\"feature\",labelCol=\"Animation\")\n",
        "lr17=LogisticRegression(featuresCol=\"feature\",labelCol=\"Musical\")\n",
        "lr18=LogisticRegression(featuresCol=\"feature\",labelCol=\"Science Fiction\")\n",
        "lr19=LogisticRegression(featuresCol=\"feature\",labelCol=\"Mystery\")\n",
        "lr20=LogisticRegression(featuresCol=\"feature\",labelCol=\"Romantic comedy\")\n",
        "\n",
        "\n",
        "# Train the model with each data frame\n",
        "lrModel1 = lr1.fit(Drama)\n",
        "lrModel2= lr2.fit(Comedy)\n",
        "lrModel3=lr3.fit(Romance_Film)\n",
        "lrModel4=lr4.fit(Thriller)\n",
        "lrModel5=lr5.fit(Action)\n",
        "lrModel6=lr6.fit(World_cinema)\n",
        "lrModel7=lr7.fit(Crime_Fiction)\n",
        "lrModel8=lr8.fit(Horror)\n",
        "lrModel9=lr9.fit(Black_and_white)\n",
        "lrModel10=lr10.fit(Indie)\n",
        "lrModel11=lr11.fit(Action_Adventure)\n",
        "lrModel12=lr12.fit(Adventure)\n",
        "lrModel13=lr13.fit(Family_Film)\n",
        "lrModel14=lr14.fit(Short_Film)\n",
        "lrModel15=lr15.fit(Romantic_drama)\n",
        "lrModel16=lr16.fit(Animation)\n",
        "lrModel17=lr17.fit(Musical)\n",
        "lrModel18=lr18.fit(Science_Fiction)\n",
        "lrModel19=lr19.fit(Mystery)\n",
        "lrModel20=lr20.fit(Romantic_comedy)\n",
        "\n",
        "# Run the test data on model, running each testing data frame on respective model\n",
        "f1=lrModel1.transform(Drama1)\n",
        "f2=lrModel2.transform(Comedy1)\n",
        "f3=lrModel3.transform(Romance_Film1)\n",
        "f4=lrModel4.transform(Thriller1)\n",
        "f5=lrModel5.transform(Action1)\n",
        "f6=lrModel6.transform(World_cinema1)\n",
        "f7=lrModel7.transform(Crime_Fiction1)\n",
        "f8=lrModel8.transform(Horror1)\n",
        "f9=lrModel9.transform(Black_and_white1)\n",
        "f10=lrModel10.transform(Indie1)\n",
        "f11=lrModel11.transform(Action_Adventure1)\n",
        "f12=lrModel12.transform(Adventure1)\n",
        "f13=lrModel13.transform(Family_Film1)\n",
        "f14=lrModel14.transform(Short_Film1)\n",
        "f15=lrModel15.transform(Romantic_drama1)\n",
        "f16=lrModel16.transform(Animation1)\n",
        "f17=lrModel17.transform(Musical1)\n",
        "f18=lrModel18.transform(Science_Fiction1)\n",
        "f19=lrModel19.transform(Mystery1)\n",
        "f20=lrModel20.transform(Romantic_comedy1)"
      ],
      "execution_count": 0,
      "outputs": []
    },
    {
      "cell_type": "code",
      "metadata": {
        "id": "4fFVDvOli-1a",
        "colab_type": "code",
        "colab": {}
      },
      "source": [
        "from pyspark.sql.functions import monotonically_increasing_id\n",
        "\n",
        "# Merging the movie_id with all 20 predictions.\n",
        "\n",
        "\n",
        "df3=df3.withColumn(\"id\",monotonically_increasing_id())\n",
        "f1=f1.withColumn(\"id\",monotonically_increasing_id())\n",
        "c0=df3.join(f1,[\"id\"]).drop(\"id\",\"rawPrediction\",\"probability\",\"id\",\"Drama\",\"plot\",\"movie_name\",'Drama', 'Comedy', 'Romance Film', 'Thriller', 'Action', 'World cinema', 'Crime Fiction', 'Horror', 'Black-and-white', 'Indie', 'Action/Adventure', 'Adventure', 'Family Film', 'Short Film', 'Romantic drama', 'Animation', 'Musical', 'Science Fiction', 'Mystery', 'Romantic comedy')\n",
        "c1=c0.join(f2,['movie_id']).drop(\"rawPrediction\",\"probability\",\"id\",\"Comedy\")\n",
        "c2=c1.join(f3,['movie_id']).drop(\"rawPrediction\",\"probability\",\"id\",\"Romance Film\")\n",
        "c3=c2.join(f4,['movie_id']).drop(\"rawPrediction\",\"probability\",\"id\",\"Thriller\")\n",
        "c4=c3.join(f5,['movie_id']).drop(\"rawPrediction\",\"probability\",\"id\",\"Action\")\n",
        "c5=c4.join(f6,['movie_id']).drop(\"rawPrediction\",\"probability\",\"id\",\"World cinema\")\n",
        "c6=c5.join(f7,['movie_id']).drop(\"rawPrediction\",\"probability\",\"id\",\"Crime Fiction\")\n",
        "c7=c6.join(f8,['movie_id']).drop(\"rawPrediction\",\"probability\",\"id\",\"Horror\")\n",
        "c8=c7.join(f9,['movie_id']).drop(\"rawPrediction\",\"probability\",\"id\",\"Black-and-white\")\n",
        "c9=c8.join(f10,['movie_id']).drop(\"rawPrediction\",\"probability\",\"id\",\"Indie\")\n",
        "c10=c9.join(f11,['movie_id']).drop(\"rawPrediction\",\"probability\",\"id\",\"Action/Adventure\")\n",
        "c11=c10.join(f12,['movie_id']).drop(\"rawPrediction\",\"probability\",\"id\",\"Adventure\")\n",
        "c12=c11.join(f13,['movie_id']).drop(\"rawPrediction\",\"probability\",\"id\",\"Family Film\")\n",
        "c13=c12.join(f14,['movie_id']).drop(\"rawPrediction\",\"probability\",\"id\",\"Short Film\")\n",
        "c14=c13.join(f15,['movie_id']).drop(\"rawPrediction\",\"probability\",\"id\",\"Romantic drama\")\n",
        "c15=c14.join(f16,['movie_id']).drop(\"rawPrediction\",\"probability\",\"id\",\"Animation\")\n",
        "c16=c15.join(f17,['movie_id']).drop(\"rawPrediction\",\"probability\",\"id\",\"Musical\")\n",
        "c17=c16.join(f18,['movie_id']).drop(\"rawPrediction\",\"probability\",\"id\",\"Science Fiction\")\n",
        "c18=c17.join(f19,['movie_id']).drop(\"rawPrediction\",\"probability\",\"id\",\"Mystery\")\n",
        "c19=c18.join(f20,['movie_id']).drop(\"rawPrediction\",\"probability\",\"id\",\"Romantic comedy\",\"feature\")"
      ],
      "execution_count": 0,
      "outputs": []
    },
    {
      "cell_type": "code",
      "metadata": {
        "id": "vKc30jPMi-1h",
        "colab_type": "code",
        "colab": {}
      },
      "source": [
        "final_output_df = c19.select(\"*\").toPandas()"
      ],
      "execution_count": 0,
      "outputs": []
    },
    {
      "cell_type": "code",
      "metadata": {
        "id": "w3Kf5Ezr-735",
        "colab_type": "code",
        "colab": {}
      },
      "source": [
        "final_output_df = final_output_df.astype(int)"
      ],
      "execution_count": 0,
      "outputs": []
    },
    {
      "cell_type": "code",
      "metadata": {
        "id": "-iyqFvhYi-1k",
        "colab_type": "code",
        "colab": {}
      },
      "source": [
        "final_output_df['final_prediction'] = final_output_df[final_output_df.columns[2]].apply(\n",
        "    lambda x: ' '.join(x.dropna().astype(str)),\n",
        "    axis=1\n",
        ")"
      ],
      "execution_count": 0,
      "outputs": []
    },
    {
      "cell_type": "code",
      "metadata": {
        "id": "qstX1UNx6WIr",
        "colab_type": "code",
        "colab": {}
      },
      "source": [
        "final_output_df = final_output_df.drop(['prediction'], axis=1)"
      ],
      "execution_count": 0,
      "outputs": []
    },
    {
      "cell_type": "code",
      "metadata": {
        "id": "G7t2CTOEJabj",
        "colab_type": "code",
        "colab": {}
      },
      "source": [
        "final_output_df = final_output_df.astype(str)"
      ],
      "execution_count": 0,
      "outputs": []
    },
    {
      "cell_type": "code",
      "metadata": {
        "id": "FCa2d9xzi-1t",
        "colab_type": "code",
        "colab": {}
      },
      "source": [
        "final_output_df.to_csv('Output3.csv')"
      ],
      "execution_count": 0,
      "outputs": []
    },
    {
      "cell_type": "code",
      "metadata": {
        "id": "94hIRuq3i-1y",
        "colab_type": "code",
        "colab": {}
      },
      "source": [
        ""
      ],
      "execution_count": 0,
      "outputs": []
    }
  ]
}